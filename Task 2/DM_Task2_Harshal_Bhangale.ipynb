{
  "cells": [
    {
      "cell_type": "code",
      "execution_count": null,
      "metadata": {
        "colab": {
          "base_uri": "https://localhost:8080/",
          "height": 0
        },
        "id": "XXZwrk3AvVsj",
        "outputId": "387f27c9-5c2e-4162-ed61-bc2413cd9b6f"
      },
      "outputs": [
        {
          "name": "stdout",
          "output_type": "stream",
          "text": [
            "First 5 rows of the dataset:\n",
            "    age  workclass  fnlwgt     education  educational-num      marital-status  \\\n",
            "0   25    Private  226802          11th                7       Never-married   \n",
            "1   38    Private   89814       HS-grad                9  Married-civ-spouse   \n",
            "2   28  Local-gov  336951    Assoc-acdm               12  Married-civ-spouse   \n",
            "3   44    Private  160323  Some-college               10  Married-civ-spouse   \n",
            "4   18          ?  103497  Some-college               10       Never-married   \n",
            "\n",
            "          occupation relationship   race  gender  capital-gain  capital-loss  \\\n",
            "0  Machine-op-inspct    Own-child  Black    Male             0             0   \n",
            "1    Farming-fishing      Husband  White    Male             0             0   \n",
            "2    Protective-serv      Husband  White    Male             0             0   \n",
            "3  Machine-op-inspct      Husband  Black    Male          7688             0   \n",
            "4                  ?    Own-child  White  Female             0             0   \n",
            "\n",
            "   hours-per-week native-country income  \n",
            "0              40  United-States  <=50K  \n",
            "1              50  United-States  <=50K  \n",
            "2              40  United-States   >50K  \n",
            "3              40  United-States   >50K  \n",
            "4              30  United-States  <=50K  \n",
            "\n",
            "Model Accuracy BEFORE Preprocessing: 0.8640\n",
            "\n",
            "Model Accuracy AFTER Preprocessing: 0.8559\n"
          ]
        }
      ],
      "source": [
        "# Import necessary libraries\n",
        "import pandas as pd\n",
        "import numpy as np\n",
        "from sklearn.model_selection import train_test_split\n",
        "from sklearn.preprocessing import LabelEncoder, StandardScaler\n",
        "from sklearn.ensemble import RandomForestClassifier\n",
        "from sklearn.metrics import accuracy_score\n",
        "\n",
        "# ------------------ Step 1: Load Dataset ------------------\n",
        "\n",
        "file_path = '/content/adult.csv'  # update with your path if needed\n",
        "data = pd.read_csv(file_path)\n",
        "\n",
        "print(\"First 5 rows of the dataset:\\n\", data.head())\n",
        "\n",
        "# ------------------ Step 2: BEFORE Preprocessing ------------------\n",
        "\n",
        "# Remove rows with missing values\n",
        "data_before = data.dropna()\n",
        "\n",
        "# Convert categorical columns using LabelEncoder\n",
        "label_encoders = {}\n",
        "for column in data_before.select_dtypes(include=['object']).columns:\n",
        "    le = LabelEncoder()\n",
        "    data_before[column] = le.fit_transform(data_before[column])\n",
        "    label_encoders[column] = le\n",
        "\n",
        "# Train/Test Split\n",
        "X = data_before.drop('income', axis=1)\n",
        "y = data_before['income']\n",
        "X_train, X_test, y_train, y_test = train_test_split(X, y, test_size=0.2, random_state=42)\n",
        "\n",
        "# Train model before preprocessing\n",
        "model_before = RandomForestClassifier(random_state=42)\n",
        "model_before.fit(X_train, y_train)\n",
        "y_pred_before = model_before.predict(X_test)\n",
        "\n",
        "accuracy_before = accuracy_score(y_test, y_pred_before)\n",
        "print(f\"\\nModel Accuracy BEFORE Preprocessing: {accuracy_before:.4f}\")\n",
        "\n",
        "# ------------------ Step 3: AFTER Preprocessing ------------------\n",
        "\n",
        "# Reload raw data\n",
        "data = pd.read_csv(file_path)\n",
        "\n",
        "# Handle missing values\n",
        "data.replace('?', np.nan, inplace=True)\n",
        "data.dropna(inplace=True)\n",
        "\n",
        "# Convert categorical columns using LabelEncoder again\n",
        "for column in data.select_dtypes(include=['object']).columns:\n",
        "    le = LabelEncoder()\n",
        "    data[column] = le.fit_transform(data[column])\n",
        "\n",
        "# Feature Scaling\n",
        "scaler = StandardScaler()\n",
        "scaled_features = scaler.fit_transform(data.drop('income', axis=1))\n",
        "X_scaled = pd.DataFrame(scaled_features, columns=data.columns[:-1])\n",
        "y_scaled = data['income']\n",
        "\n",
        "# Train/Test Split\n",
        "X_train_scaled, X_test_scaled, y_train_scaled, y_test_scaled = train_test_split(X_scaled, y_scaled, test_size=0.2, random_state=42)\n",
        "\n",
        "# Train model after preprocessing\n",
        "model_after = RandomForestClassifier(random_state=42)\n",
        "model_after.fit(X_train_scaled, y_train_scaled)\n",
        "y_pred_after = model_after.predict(X_test_scaled)\n",
        "\n",
        "accuracy_after = accuracy_score(y_test_scaled, y_pred_after)\n",
        "print(f\"\\nModel Accuracy AFTER Preprocessing: {accuracy_after:.4f}\")\n"
      ]
    }
  ],
  "metadata": {
    "colab": {
      "provenance": []
    },
    "kernelspec": {
      "display_name": "Python 3",
      "name": "python3"
    },
    "language_info": {
      "name": "python"
    }
  },
  "nbformat": 4,
  "nbformat_minor": 0
}
