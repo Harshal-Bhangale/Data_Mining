{
  "nbformat": 4,
  "nbformat_minor": 0,
  "metadata": {
    "colab": {
      "provenance": []
    },
    "kernelspec": {
      "name": "python3",
      "display_name": "Python 3"
    },
    "language_info": {
      "name": "python"
    }
  },
  "cells": [
    {
      "cell_type": "code",
      "execution_count": 3,
      "metadata": {
        "colab": {
          "base_uri": "https://localhost:8080/",
          "height": 0
        },
        "id": "cALU_y2K0vJg",
        "outputId": "b50313f7-c825-4a59-e470-ff28f96ee92b"
      },
      "outputs": [
        {
          "output_type": "stream",
          "name": "stdout",
          "text": [
            "\n",
            "Decision Tree\n",
            "Precision: 0.58, Recall: 0.58, Execution Time: 0.0142s\n",
            "\n",
            "Naive Bayes\n",
            "Precision: 0.58, Recall: 0.58, Execution Time: 0.0107s\n",
            "\n",
            "k-NN (k=3)\n",
            "Precision: 0.58, Recall: 0.58, Execution Time: 0.0078s\n",
            "\n",
            "📌 Association Rules (support >= 0.3, confidence >= 0.7):\n",
            "       antecedents      consequents  support  confidence  lift\n",
            "0         (butter)          (bread)    0.625         1.0  1.00\n",
            "1           (milk)          (bread)    0.625         1.0  1.00\n",
            "2           (milk)         (butter)    0.500         0.8  1.28\n",
            "3         (butter)           (milk)    0.500         0.8  1.28\n",
            "4    (milk, bread)         (butter)    0.500         0.8  1.28\n",
            "5   (milk, butter)          (bread)    0.500         1.0  1.00\n",
            "6  (bread, butter)           (milk)    0.500         0.8  1.28\n",
            "7           (milk)  (bread, butter)    0.500         0.8  1.28\n",
            "8         (butter)    (milk, bread)    0.500         0.8  1.28\n"
          ]
        },
        {
          "output_type": "stream",
          "name": "stderr",
          "text": [
            "/usr/local/lib/python3.11/dist-packages/mlxtend/frequent_patterns/association_rules.py:186: RuntimeWarning: invalid value encountered in divide\n",
            "  cert_metric = np.where(certainty_denom == 0, 0, certainty_num / certainty_denom)\n"
          ]
        }
      ],
      "source": [
        "# 📌 Imports\n",
        "import pandas as pd\n",
        "import time\n",
        "from sklearn.model_selection import train_test_split\n",
        "from sklearn.tree import DecisionTreeClassifier\n",
        "from sklearn.naive_bayes import CategoricalNB\n",
        "from sklearn.neighbors import KNeighborsClassifier\n",
        "from sklearn.preprocessing import LabelEncoder\n",
        "from sklearn.metrics import precision_score, recall_score\n",
        "from mlxtend.frequent_patterns import apriori, association_rules\n",
        "from mlxtend.preprocessing import TransactionEncoder\n",
        "\n",
        "# 📌 Load Weather Dataset\n",
        "weather = pd.DataFrame({\n",
        "    'Outlook': ['Sunny', 'Sunny', 'Overcast', 'Rain', 'Rain', 'Rain', 'Overcast', 'Sunny', 'Sunny', 'Rain', 'Sunny', 'Overcast', 'Overcast', 'Rain'],\n",
        "    'Temperature': ['Hot', 'Hot', 'Hot', 'Mild', 'Cool', 'Cool', 'Cool', 'Mild', 'Cool', 'Mild', 'Mild', 'Mild', 'Hot', 'Mild'],\n",
        "    'Humidity': ['High', 'High', 'High', 'High', 'Normal', 'Normal', 'Normal', 'High', 'Normal', 'Normal', 'Normal', 'High', 'Normal', 'High'],\n",
        "    'Windy': ['False', 'True', 'False', 'False', 'False', 'True', 'True', 'False', 'False', 'False', 'True', 'True', 'False', 'True'],\n",
        "    'PlayTennis': ['No', 'No', 'Yes', 'Yes', 'Yes', 'No', 'Yes', 'No', 'Yes', 'Yes', 'Yes', 'Yes', 'Yes', 'No']\n",
        "})\n",
        "\n",
        "# 📌 Encode Categorical Columns\n",
        "le = LabelEncoder()\n",
        "for column in weather.columns:\n",
        "    weather[column] = le.fit_transform(weather[column])\n",
        "\n",
        "# 📌 Split Data\n",
        "X = weather.drop('PlayTennis', axis=1)\n",
        "y = weather['PlayTennis']\n",
        "X_train, X_test, y_train, y_test = train_test_split(X, y, test_size=0.3, random_state=42)\n",
        "\n",
        "# 📌 Evaluation Function\n",
        "def evaluate_model(model, name):\n",
        "    start = time.time()\n",
        "    model.fit(X_train, y_train)\n",
        "    predictions = model.predict(X_test)\n",
        "    end = time.time()\n",
        "\n",
        "    precision = precision_score(y_test, predictions, average='macro')\n",
        "    recall = recall_score(y_test, predictions, average='macro')\n",
        "    exec_time = round(end - start, 4)\n",
        "\n",
        "    print(f\"\\n{name}\")\n",
        "    print(f\"Precision: {precision:.2f}, Recall: {recall:.2f}, Execution Time: {exec_time}s\")\n",
        "\n",
        "# 📌 Classification Algorithms\n",
        "evaluate_model(DecisionTreeClassifier(), \"Decision Tree\")\n",
        "evaluate_model(CategoricalNB(), \"Naive Bayes\")\n",
        "evaluate_model(KNeighborsClassifier(n_neighbors=3), \"k-NN (k=3)\")\n",
        "\n",
        "# ---------------------------------------------\n",
        "# 📌 Association Rule Mining (Retail Transactions)\n",
        "# ---------------------------------------------\n",
        "\n",
        "# Sample Retail Transaction Dataset\n",
        "transactions = [\n",
        "    ['milk', 'bread', 'butter'],\n",
        "    ['beer', 'bread'],\n",
        "    ['milk', 'bread', 'butter'],\n",
        "    ['milk', 'bread'],\n",
        "    ['bread', 'butter'],\n",
        "    ['milk', 'bread', 'butter'],\n",
        "    ['beer', 'bread'],\n",
        "    ['milk', 'bread', 'butter']\n",
        "]\n",
        "\n",
        "# Transaction Encoding\n",
        "te = TransactionEncoder()\n",
        "te_data = te.fit(transactions).transform(transactions)\n",
        "df = pd.DataFrame(te_data, columns=te.columns_)\n",
        "\n",
        "# Apriori Algorithm\n",
        "frequent_items = apriori(df, min_support=0.3, use_colnames=True)\n",
        "rules = association_rules(frequent_items, metric=\"confidence\", min_threshold=0.7)\n",
        "\n",
        "# 📌 Display Association Rules\n",
        "print(\"\\n📌 Association Rules (support >= 0.3, confidence >= 0.7):\")\n",
        "print(rules[['antecedents', 'consequents', 'support', 'confidence', 'lift']])\n"
      ]
    }
  ]
}